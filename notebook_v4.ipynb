{
 "cells": [
  {
   "cell_type": "code",
   "execution_count": null,
   "metadata": {},
   "outputs": [
    {
     "name": "stderr",
     "output_type": "stream",
     "text": [
      "d:\\Pritesh\\VS Code Workspace\\Preparations\\preparations\\Lib\\site-packages\\sentence_transformers\\cross_encoder\\CrossEncoder.py:11: TqdmWarning: IProgress not found. Please update jupyter and ipywidgets. See https://ipywidgets.readthedocs.io/en/stable/user_install.html\n",
      "  from tqdm.autonotebook import tqdm, trange\n"
     ]
    }
   ],
   "source": [
    "import pandas as pd\n",
    "import numpy as np\n",
    "from sentence_transformers import SentenceTransformer\n",
    "import faiss\n",
    "from typing import List, Dict, Tuple, Optional\n",
    "from dataclasses import dataclass\n",
    "from datetime import datetime\n",
    "from langchain_core.prompts import ChatPromptTemplate\n",
    "from langchain_core.output_parsers import StrOutputParser\n",
    "from langchain_openai.chat_models import ChatOpenAI\n"
   ]
  },
  {
   "cell_type": "code",
   "execution_count": null,
   "metadata": {},
   "outputs": [],
   "source": []
  },
  {
   "cell_type": "code",
   "execution_count": null,
   "metadata": {},
   "outputs": [],
   "source": [
    "@dataclass\n",
    "class TableSchema:\n",
    "    name: str\n",
    "    description: str\n",
    "    columns: Dict[str, str]  # column_name: description #--------------------------------------------->>>>>>>>>>>>>>>>>>>>>\n",
    "    relationships: Dict[str, str]  # column_name: related_table.column #--------------------------------------------->>>>>>>>>>>>>>>>>>>>>\n",
    "    key_metrics: List[str]\n",
    "    sample_queries: List[str]\n",
    "\n",
    "class UnderwritingRAG:\n",
    "    def __init__(self, model_name: str = 'all-MiniLM-L6-v2'):\n",
    "        self.embedding_model = SentenceTransformer(model_name)\n",
    "        self.index = None\n",
    "        self.schema_store = {}\n",
    "        self.dataframes = {}\n",
    "        \n",
    "        self._initialize_schemas() #--------------------------------------------->>>>>>>>>>>>>>>>>>>>> Initialize the schema\n",
    "\n",
    "    def _initialize_schemas(self):\n",
    "        \"\"\"Initialize schema metadata for all tables\"\"\"\n",
    "        self.schema_store = {\n",
    "            \"risk_assessment\": TableSchema(\n",
    "                name=\"Risk Assessment\",\n",
    "                description=\"Contains risk assessment details and recommendations for borrowers\",\n",
    "                columns={\n",
    "                    \"assessment_id\": \"Unique identifier for risk assessment\",\n",
    "                    \"borrower_id\": \"Foreign key to Borrower Profile\",\n",
    "                    \"risk_score\": \"Overall risk score (0-100)\",\n",
    "                    \"market_risk\": \"Market risk level (Low/Moderate/High)\",\n",
    "                    \"credit_risk\": \"Credit risk level (Low/Moderate/High)\",\n",
    "                    \"operational_risk\": \"Operational risk level (Low/Moderate/High)\",\n",
    "                    \"regulatory_risk\": \"Regulatory risk level (Low/Moderate/High)\",\n",
    "                    \"recommendation\": \"Final recommendation (Approve/Reject/Further Review)\",\n",
    "                    \"assessment_date\": \"Date of risk assessment\",\n",
    "                    \"reviewed_by\": \"Name of reviewing officer\",\n",
    "                    \"next_review_date\": \"Next scheduled review date\"\n",
    "                },\n",
    "                relationships={\n",
    "                    \"borrower_id\": \"borrower_profile.borrower_id\"\n",
    "                },\n",
    "                key_metrics=[\n",
    "                    \"risk_score\",\n",
    "                    \"recommendation\",\n",
    "                    \"risk_levels\"\n",
    "                ],\n",
    "                sample_queries=[\n",
    "                    \"What is the risk assessment for borrower TCS-1?\",\n",
    "                    \"Show all high credit risk assessments\",\n",
    "                    \"List rejected applications with risk scores above 50\"\n",
    "                ]\n",
    "            ),\n",
    "            \n",
    "            \"borrower_profile\": TableSchema(\n",
    "                name=\"Borrower Profile\",\n",
    "                description=\"Contains company profile and credit rating information\",\n",
    "                columns={\n",
    "                    \"borrower_id\": \"Unique identifier for borrower\",\n",
    "                    \"company_name\": \"Name of the company\",\n",
    "                    \"industry_sector\": \"Industry sector of the company\",\n",
    "                    \"incorporation_date\": \"Date of incorporation\",\n",
    "                    \"headquarters_location\": \"Company headquarters location\",\n",
    "                    \"business_structure\": \"Legal structure of business\",\n",
    "                    \"ownership\": \"Ownership details\",\n",
    "                    \"credit_rating\": \"Current credit rating\",\n",
    "                    \"last_rating_update\": \"Last credit rating update date\"\n",
    "                },\n",
    "                relationships={},\n",
    "                key_metrics=[\n",
    "                    \"credit_rating\",\n",
    "                    \"business_age\",\n",
    "                    \"rating_trend\"\n",
    "                ],\n",
    "                sample_queries=[\n",
    "                    \"What is TCS-1's credit rating?\",\n",
    "                    \"List all AAA rated borrowers\",\n",
    "                    \"Show recently incorporated companies\"\n",
    "                ]\n",
    "            ),\n",
    "            \n",
    "            \"credit_history\": TableSchema(\n",
    "                name=\"Credit History\",\n",
    "                description=\"Loan and credit history details\",\n",
    "                columns={\n",
    "                    \"credit_id\": \"Unique identifier for credit record\",\n",
    "                    \"borrower_id\": \"Foreign key to Borrower Profile\",\n",
    "                    \"credit_type\": \"Type of credit facility\",\n",
    "                    \"loan_amount\": \"Original loan amount\",\n",
    "                    \"loan_issued_date\": \"Date loan was issued\",\n",
    "                    \"loan_maturity_date\": \"Loan maturity date\",\n",
    "                    \"repayment_status\": \"Current repayment status\",\n",
    "                    \"default_history\": \"Previous default history\",\n",
    "                    \"interest_rate\": \"Current interest rate\",\n",
    "                    \"outstanding_balance\": \"Current outstanding balance\"\n",
    "                },\n",
    "                relationships={\n",
    "                    \"borrower_id\": \"borrower_profile.borrower_id\"\n",
    "                },\n",
    "                key_metrics=[\n",
    "                    \"default_rate\",\n",
    "                    \"average_loan_amount\",\n",
    "                    \"repayment_performance\"\n",
    "                ],\n",
    "                sample_queries=[\n",
    "                    \"Show default history for borrower TCS-1\",\n",
    "                    \"List all active loans above $40000\",\n",
    "                    \"What is the average interest rate for term loans?\"\n",
    "                ]\n",
    "            ),\n",
    "            \n",
    "            \"financial_ratios\": TableSchema(\n",
    "                name=\"Financial Ratios\",\n",
    "                description=\"Key financial ratios and performance metrics\",\n",
    "                columns={\n",
    "                    \"ratio_id\": \"Unique identifier for ratio record\",\n",
    "                    \"borrower_id\": \"Foreign key to Borrower Profile\",\n",
    "                    \"reporting_period\": \"Period of financial reporting\",\n",
    "                    \"current_ratio\": \"Current assets / Current liabilities\",\n",
    "                    \"quick_ratio\": \"Quick assets / Current liabilities\",\n",
    "                    \"debt_to_equity\": \"Total debt / Total equity\",\n",
    "                    \"interest_coverage_ratio\": \"EBIT / Interest expenses\",\n",
    "                    \"gross_margin_ratio\": \"Gross profit / Revenue\",\n",
    "                    \"return_on_assets\": \"Net income / Total assets\",\n",
    "                    \"return_on_equity\": \"Net income / Shareholder equity\"\n",
    "                },\n",
    "                relationships={\n",
    "                    \"borrower_id\": \"borrower_profile.borrower_id\"\n",
    "                },\n",
    "                key_metrics=[\n",
    "                    \"solvency_metrics\",\n",
    "                    \"profitability_metrics\",\n",
    "                    \"efficiency_metrics\"\n",
    "                ],\n",
    "                sample_queries=[\n",
    "                    \"What are the current ratios below 1.5?\",\n",
    "                    \"Show companies with high debt-to-equity\",\n",
    "                    \"List top 10 by return on equity\"\n",
    "                ]\n",
    "            ),\n",
    "            \n",
    "            \"financial_statements\": TableSchema(\n",
    "                name=\"Financial Statements\",\n",
    "                description=\"Detailed financial statement data\",\n",
    "                columns={\n",
    "                    \"statement_id\": \"Unique identifier for financial statement\",\n",
    "                    \"borrower_id\": \"Foreign key to Borrower Profile\",\n",
    "                    \"reporting_period\": \"Period of financial reporting\",\n",
    "                    \"total_assets\": \"Total assets value\",\n",
    "                    \"total_liabilities\": \"Total liabilities value\",\n",
    "                    \"shareholder_equity\": \"Total shareholder equity\",\n",
    "                    \"total_revenue\": \"Total revenue\",\n",
    "                    \"net_income\": \"Net income\",\n",
    "                    \"cash_flow_operations\": \"Cash flow from operations\",\n",
    "                    \"cash_flow_investments\": \"Cash flow from investments\",\n",
    "                    \"cash_flow_financing\": \"Cash flow from financing\",\n",
    "                    \"gross_margin\": \"Gross margin percentage\",\n",
    "                    \"operating_margin\": \"Operating margin percentage\",\n",
    "                    \"net_profit_margin\": \"Net profit margin percentage\"\n",
    "                },\n",
    "                relationships={\n",
    "                    \"borrower_id\": \"borrower_profile.borrower_id\"\n",
    "                },\n",
    "                key_metrics=[\n",
    "                    \"size_metrics\",\n",
    "                    \"profitability_metrics\",\n",
    "                    \"cash_flow_metrics\"\n",
    "                ],\n",
    "                sample_queries=[\n",
    "                    \"Show companies with negative operating cash flow\",\n",
    "                    \"List top 10 by revenue\",\n",
    "                    \"What is the average profit margin?\"\n",
    "                ]\n",
    "            )\n",
    "        }\n",
    "\n",
    "    def create_schema_embedding(self, table_name: str) -> str:\n",
    "        \"\"\"Create schema description for embedding\"\"\"\n",
    "        schema = self.schema_store[table_name]\n",
    "        \n",
    "        schema_text = f\"Table: {schema.name}\\n\"\n",
    "        schema_text += f\"Description: {schema.description}\\n\\n\"\n",
    "        \n",
    "        # Add columns #--------------------------------------------->>>>>>>>>>>>>>>>>>>>>\n",
    "        schema_text += \"Columns:\\n\"\n",
    "        for col, desc in schema.columns.items():\n",
    "            schema_text += f\"- {col}: {desc}\\n\"\n",
    "        \n",
    "        # Add relationships #--------------------------------------------->>>>>>>>>>>>>>>>>>>>>\n",
    "        if schema.relationships:\n",
    "            schema_text += \"\\nRelationships:\\n\"\n",
    "            for col, rel in schema.relationships.items():\n",
    "                schema_text += f\"- {col} relates to {rel}\\n\"\n",
    "        \n",
    "        # Add key metrics #--------------------------------------------->>>>>>>>>>>>>>>>>>>>>\n",
    "        schema_text += \"\\nKey Metrics:\\n\"\n",
    "        for metric in schema.key_metrics:\n",
    "            schema_text += f\"- {metric}\\n\"\n",
    "        \n",
    "        # Add sample queries #--------------------------------------------->>>>>>>>>>>>>>>>>>>>>\n",
    "        schema_text += \"\\nTypical Queries:\\n\"\n",
    "        for query in schema.sample_queries:\n",
    "            schema_text += f\"- {query}\\n\"\n",
    "            \n",
    "        return schema_text\n",
    "\n",
    "    def add_dataframe(self, df: pd.DataFrame, table_name: str) -> None:\n",
    "        \"\"\"Add a dataframe to the system\"\"\"\n",
    "        self.dataframes[table_name] = df\n",
    "        \n",
    "        if self.index is None:\n",
    "            # Create initial index with schema embedding #--------------------------------------------->>>>>>>>>>>>>>>>>>>>>\n",
    "            schema_text = self.create_schema_embedding(table_name)\n",
    "            embedding = self.embedding_model.encode([schema_text])[0]\n",
    "            self.index = faiss.IndexFlatL2(embedding.shape[0])\n",
    "            self.index.add(np.array([embedding]).astype('float32'))\n",
    "        else:\n",
    "            # Add schema embedding to existing index #--------------------------------------------->>>>>>>>>>>>>>>>>>>>>\n",
    "            schema_text = self.create_schema_embedding(table_name)\n",
    "            embedding = self.embedding_model.encode([schema_text])[0]\n",
    "            self.index.add(np.array([embedding]).astype('float32'))\n",
    "\n",
    "    def query(self, query: str, k: int = 2) -> List[Dict]:\n",
    "        \"\"\"Query the system and return relevant tables and data\"\"\"\n",
    "        # Create query embedding #--------------------------------------------->>>>>>>>>>>>>>>>>>>>>\n",
    "        query_vector = self.embedding_model.encode([query])\n",
    "        query_vector = np.array(query_vector).astype('float32')\n",
    "        \n",
    "        # Search index #--------------------------------------------->>>>>>>>>>>>>>>>>>>>>\n",
    "        distances, indices = self.index.search(query_vector, k)\n",
    "        \n",
    "        # Get relevant tables #--------------------------------------------->>>>>>>>>>>>>>>>>>>>>\n",
    "        relevant_tables = []\n",
    "        for idx, distance in enumerate(distances[0]):\n",
    "            table_name = list(self.schema_store.keys())[indices[0][idx]]\n",
    "            schema = self.schema_store[table_name]\n",
    "            \n",
    "            relevant_tables.append({\n",
    "                'table_name': schema.name,\n",
    "                'relevance_score': float(distance),\n",
    "                'schema': schema,\n",
    "                'sample_data': self.dataframes[table_name].head(3) if table_name in self.dataframes else None\n",
    "            })\n",
    "            \n",
    "        return relevant_tables\n",
    "\n",
    "def format_query_results(results: List[Dict]) -> str:\n",
    "    \"\"\"Format query results for LLM consumption\"\"\"\n",
    "    context = \"Relevant tables for your query:\\n\\n\"\n",
    "    \n",
    "    for result in results:\n",
    "        context += f\"Table: {result['table_name']}\\n\"\n",
    "        context += f\"Relevance Score: {result['relevance_score']:.4f}\\n\"\n",
    "        schema = result['schema']\n",
    "        \n",
    "        context += \"Key Columns:\\n\"\n",
    "        for col, desc in schema.columns.items():\n",
    "            context += f\"- {col}: {desc}\\n\"\n",
    "        \n",
    "        if result['sample_data'] is not None:\n",
    "            context += \"\\nSample Data:\\n\"\n",
    "            context += result['sample_data'].to_string()\n",
    "        \n",
    "        context += \"\\n\\n\"\n",
    "    \n",
    "    return context\n"
   ]
  },
  {
   "cell_type": "code",
   "execution_count": null,
   "metadata": {},
   "outputs": [],
   "source": [
    "\n",
    "def initialize_rag_system(risk_df, borrower_df, credit_df, ratios_df, statements_df):\n",
    "    rag = UnderwritingRAG()\n",
    "    \n",
    "    #--------------------------------------------->>>>>>>>>>>>>>>>>>>>> Add all dataframes\n",
    "    rag.add_dataframe(risk_df, \"risk_assessment\")\n",
    "    rag.add_dataframe(borrower_df, \"borrower_profile\")\n",
    "    rag.add_dataframe(credit_df, \"credit_history\")\n",
    "    rag.add_dataframe(ratios_df, \"financial_ratios\")\n",
    "    rag.add_dataframe(statements_df, \"financial_statements\")\n",
    "    \n",
    "    return rag"
   ]
  },
  {
   "cell_type": "code",
   "execution_count": 8,
   "metadata": {},
   "outputs": [],
   "source": [
    "csv_path = \"C:/Users/prite/Downloads/Sample Underwriter/tabular/\""
   ]
  },
  {
   "cell_type": "code",
   "execution_count": null,
   "metadata": {},
   "outputs": [],
   "source": [
    "#--------------------------------------------->>>>>>>>>>>>>>>>>>>>> Load CSV files \n",
    "risk_df = pd.read_csv(csv_path +\"Risk_Assessment.csv\")\n",
    "borrower_df = pd.read_csv(csv_path +\"Borrower_Profile.csv\")\n",
    "credit_df = pd.read_csv(csv_path +\"Credit_History.csv\")\n",
    "ratios_df = pd.read_csv(csv_path +\"Financial_Ratios.csv\")\n",
    "statements_df = pd.read_csv(csv_path +\"Financial_Statements.csv\")"
   ]
  },
  {
   "cell_type": "code",
   "execution_count": 23,
   "metadata": {},
   "outputs": [],
   "source": [
    "model = ChatOpenAI()"
   ]
  },
  {
   "cell_type": "code",
   "execution_count": null,
   "metadata": {},
   "outputs": [
    {
     "name": "stderr",
     "output_type": "stream",
     "text": [
      "d:\\Pritesh\\VS Code Workspace\\Preparations\\preparations\\Lib\\site-packages\\huggingface_hub\\file_download.py:139: UserWarning: `huggingface_hub` cache-system uses symlinks by default to efficiently store duplicated files but your machine does not support them in C:\\Users\\prite\\.cache\\huggingface\\hub\\models--sentence-transformers--all-MiniLM-L6-v2. Caching files will still work but in a degraded version that might require more space on your disk. This warning can be disabled by setting the `HF_HUB_DISABLE_SYMLINKS_WARNING` environment variable. For more details, see https://huggingface.co/docs/huggingface_hub/how-to-cache#limitations.\n",
      "To support symlinks on Windows, you either need to activate Developer Mode or to run Python as an administrator. In order to activate developer mode, see this article: https://docs.microsoft.com/en-us/windows/apps/get-started/enable-your-device-for-development\n",
      "  warnings.warn(message)\n"
     ]
    }
   ],
   "source": [
    "#--------------------------------------------->>>>>>>>>>>>>>>>>>>>> Initialize RAG system \n",
    "rag = initialize_rag_system(risk_df, borrower_df, credit_df, ratios_df, statements_df)"
   ]
  },
  {
   "cell_type": "code",
   "execution_count": null,
   "metadata": {},
   "outputs": [],
   "source": [
    "#--------------------------------------------->>>>>>>>>>>>>>>>>>>>> LLM CALL\n",
    "def retrieval_llm(query):\n",
    "\n",
    "    results = rag.query(query)\n",
    "    context = format_query_results(results)\n",
    "    \n",
    "    prompt = ChatPromptTemplate.from_messages([\n",
    "        (\"system\",\"\"\"Based on the following underwriting data context {context}, answer the query: \"\"\"),\n",
    "        (\"human\",\"{query}\")\n",
    "        ])\n",
    "\n",
    "\n",
    "    chain = prompt | model | StrOutputParser()\n",
    "\n",
    "    final_result = chain.invoke({\n",
    "        \"context\":context,\n",
    "        \"query\":query\n",
    "    })\n",
    "\n",
    "    return results, context, final_result"
   ]
  },
  {
   "cell_type": "markdown",
   "metadata": {},
   "source": [
    "### Questions"
   ]
  },
  {
   "cell_type": "code",
   "execution_count": null,
   "metadata": {},
   "outputs": [],
   "source": []
  },
  {
   "cell_type": "markdown",
   "metadata": {},
   "source": [
    "#### Question 1"
   ]
  },
  {
   "cell_type": "code",
   "execution_count": 28,
   "metadata": {},
   "outputs": [
    {
     "name": "stdout",
     "output_type": "stream",
     "text": [
      "To fetch basic borrower profile details for TCS (Tata Consultancy Services), you can use the following SQL query:\n",
      "\n",
      "```sql\n",
      "SELECT * \n",
      "FROM `Borrower Profile`\n",
      "WHERE company_name = 'Tata Consultancy Services';\n",
      "```\n",
      "\n",
      "This query will retrieve all the basic borrower profile details for TCS from the \"Borrower Profile\" table.\n"
     ]
    }
   ],
   "source": [
    "query = \"Fetch basic borrower profile details for TCS\"\n",
    "results, context, final_result = retrieval_llm(query)\n",
    "print(final_result)"
   ]
  },
  {
   "cell_type": "markdown",
   "metadata": {},
   "source": [
    "#### Question 2"
   ]
  },
  {
   "cell_type": "code",
   "execution_count": 29,
   "metadata": {},
   "outputs": [
    {
     "name": "stdout",
     "output_type": "stream",
     "text": [
      "To retrieve the recent financial statements for Tata Consultancy Services (TCS), we can query the Financial Statements table based on the borrower_id for TCS and then sort the data by the reporting_period to get the top 5 most recent financial statements. Here is the SQL query to achieve this:\n",
      "\n",
      "```sql\n",
      "SELECT *\n",
      "FROM Financial_Statements FS\n",
      "JOIN Borrower_Profile BP ON FS.borrower_id = BP.borrower_id\n",
      "WHERE BP.company_name = 'Tata Consultancy Services'\n",
      "ORDER BY FS.reporting_period DESC\n",
      "LIMIT 5;\n",
      "```\n",
      "\n",
      "This query will retrieve the top 5 most recent financial statements for Tata Consultancy Services by joining the Financial Statements table with the Borrower Profile table on the borrower_id, filtering for TCS as the company name, and sorting the data by reporting_period in descending order to get the most recent statements first.\n"
     ]
    }
   ],
   "source": [
    "query = \"Retrieve recent financial statements for TCS (top 5 by most recent reporting period).\"\n",
    "results, context, final_result = retrieval_llm(query)\n",
    "print(final_result)"
   ]
  },
  {
   "cell_type": "markdown",
   "metadata": {},
   "source": [
    "#### Question 3"
   ]
  },
  {
   "cell_type": "code",
   "execution_count": 30,
   "metadata": {},
   "outputs": [
    {
     "name": "stdout",
     "output_type": "stream",
     "text": [
      "To calculate the average financial ratios for TCS over the past 3 years, we need to consider the data from both the Financial Statements and Financial Ratios tables for TCS (borrower_id) for the relevant reporting periods.\n",
      "\n",
      "Here is the breakdown of the steps to calculate the average financial ratios for TCS over the past 3 years:\n",
      "\n",
      "1. Identify the financial statements and financial ratios data for TCS (borrower_id) for the past 3 years.\n",
      "2. Calculate the average of each financial ratio for TCS over the past 3 years.\n",
      "\n",
      "Let's proceed with the calculations:\n",
      "\n",
      "1. Financial Statements Data for TCS over the past 3 years:\n",
      "   - TCS-2:\n",
      "     - FS-1: 2021-09-28\n",
      "     - FR-1: 2023-11-29\n",
      "   - TCS-3:\n",
      "     - FS-2: 2024-09-22\n",
      "     - FR-2: 2021-04-01\n",
      "   - TCS-4:\n",
      "     - FS-3: 2022-02-08\n",
      "     - FR-3: 2020-11-28\n",
      "\n",
      "2. Calculate the average financial ratios for TCS over the past 3 years:\n",
      "   - Current Ratio:\n",
      "     - (2.03 + 1.14 + 2.82) / 3 = 2.00\n",
      "   - Quick Ratio:\n",
      "     - (0.78 + 1.85 + 1.61) / 3 = 1.41\n",
      "   - Debt to Equity Ratio:\n",
      "     - (0.11 + 1.36 + 1.71) / 3 = 1.06\n",
      "   - Interest Coverage Ratio:\n",
      "     - (11.66 + 14.34 + 13.76) / 3 = 13.92\n",
      "   - Gross Margin Ratio:\n",
      "     - (54.97 + 43.40 + 55.53) / 3 = 51.30\n",
      "   - Return on Assets:\n",
      "     - (16.37 + 4.94 + 8.00) / 3 = 9.77\n",
      "   - Return on Equity:\n",
      "     - (15.49 + 13.34 + 19.00) / 3 = 15.28\n",
      "\n",
      "Therefore, the average financial ratios for TCS over the past 3 years are as follows:\n",
      "- Average Current Ratio: 2.00\n",
      "- Average Quick Ratio: 1.41\n",
      "- Average Debt to Equity Ratio: 1.06\n",
      "- Average Interest Coverage Ratio: 13.92\n",
      "- Average Gross Margin Ratio: 51.30\n",
      "- Average Return on Assets: 9.77\n",
      "- Average Return on Equity: 15.28\n",
      "\n",
      "These averages provide a consolidated view of TCS's financial performance across the selected ratios over the past 3 years.\n"
     ]
    }
   ],
   "source": [
    "query = \"Calculate average financial ratios for TCS over the past 3 years\"\n",
    "results, context, final_result = retrieval_llm(query)\n",
    "print(final_result)"
   ]
  },
  {
   "cell_type": "markdown",
   "metadata": {},
   "source": [
    "#### Question 4"
   ]
  },
  {
   "cell_type": "code",
   "execution_count": 31,
   "metadata": {},
   "outputs": [
    {
     "name": "stdout",
     "output_type": "stream",
     "text": [
      "```sql\n",
      "SELECT *\n",
      "FROM Credit History\n",
      "WHERE borrower_id LIKE 'TCS-%' AND repayment_status = 'Default';\n",
      "```\n"
     ]
    }
   ],
   "source": [
    "query = \"List all credit transactions for TCS with status as 'Default'\"\n",
    "results, context, final_result = retrieval_llm(query)\n",
    "print(final_result)"
   ]
  },
  {
   "cell_type": "markdown",
   "metadata": {},
   "source": [
    "#### Question 5"
   ]
  },
  {
   "cell_type": "code",
   "execution_count": 32,
   "metadata": {},
   "outputs": [
    {
     "name": "stdout",
     "output_type": "stream",
     "text": [
      "To retrieve the most recent risk assessment details for TCS (Tata Consultancy Services), you can use the following SQL query:\n",
      "\n",
      "```sql\n",
      "SELECT ra.assessment_id, ra.borrower_id, ra.assessment_date, ra.risk_score, ra.market_risk, ra.credit_risk, ra.operational_risk, ra.regulatory_risk, ra.recommendation, ra.reviewed_by, ra.next_review_date\n",
      "FROM Risk_Assessment ra\n",
      "JOIN Borrower_Profile bp ON ra.borrower_id = bp.borrower_id\n",
      "WHERE bp.company_name = 'Tata Consultancy Services'\n",
      "ORDER BY ra.assessment_date DESC\n",
      "LIMIT 1;\n",
      "```\n",
      "\n",
      "This query will fetch the assessment details for TCS by joining the Risk Assessment and Borrower Profile tables on the borrower_id, filtering for TCS as the company name, ordering the results by assessment date in descending order (most recent first), and limiting the output to only the most recent assessment record.\n"
     ]
    }
   ],
   "source": [
    "query = \"Retrieve the most recent risk assessment details for TCS\"\n",
    "results, context, final_result = retrieval_llm(query)\n",
    "print(final_result)"
   ]
  },
  {
   "cell_type": "code",
   "execution_count": null,
   "metadata": {},
   "outputs": [],
   "source": []
  },
  {
   "cell_type": "code",
   "execution_count": null,
   "metadata": {},
   "outputs": [],
   "source": []
  }
 ],
 "metadata": {
  "language_info": {
   "name": "python"
  }
 },
 "nbformat": 4,
 "nbformat_minor": 2
}
